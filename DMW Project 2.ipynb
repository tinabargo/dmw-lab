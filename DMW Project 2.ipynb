{
 "cells": [
  {
   "cell_type": "markdown",
   "metadata": {},
   "source": [
    "# Understanding How So Won Against Carlsen"
   ]
  },
  {
   "cell_type": "markdown",
   "metadata": {},
   "source": []
  },
  {
   "cell_type": "markdown",
   "metadata": {},
   "source": [
    "## Abstract\n",
    "\n",
    "This study aims to look at the games of two of the top players in the world: Magnus Carlsen and Wesley So. The analysis only focused on the type of openings they used and the number of moves it took for them to defeat their opponents. Their matches were also considered to try to rationalize what it would take for So to defeat Carlsen. Data was scraped from http://www.chessgames.com, concentrating on the games of Carlsen and So that is stored in their database.\n",
    "\n",
    "The data shows that Carlsen experiments a lot in terms of the opening games he uses in his games, while So is more consistent and are mostly using the same openings. It also shows that Carlsen has the advantage when he plays as White, but has difficulty in winning when he plays as Black."
   ]
  },
  {
   "cell_type": "markdown",
   "metadata": {},
   "source": []
  },
  {
   "cell_type": "markdown",
   "metadata": {},
   "source": [
    "## Introduction\n",
    "\n",
    "The game of chess has changed since its inception. Since the late 1990s, chess engines have been programmed with increasing successes, and came to a point that these programs are playing at a higher level compared with the strongest players in the world. Since then, computer analysis has contributed a lot to the theory of playing chess.\n",
    "\n",
    "A good way to start studying chess games is by looking at the opening game. It is easier to remember, because the starting position is always the same. By looking at the variations of the first 10 to 15 moves, one will have a good understanding of an opponent's objectives in making those moves, making it easier to think of ways to subvert them.\n",
    "\n",
    "In this report, we study the opening game of two of the top players in the world: Magnus Carlsen and Wesley So. Magnus Carlsen is the reigning World Chess Champion, so it is imperative that we study his play style. On the other hand, Wesley So managed to get to the top without a mentor, so it is also interesting to look at his play style. These two players are known to favor creativity in their playing styles, so it will be interesting to see which opening games they prefer to build their game.\n",
    "\n",
    "#### Magnus Carlsen\n",
    "\n",
    "Magnus Carlsen (28 years old) is a Norwegian chess grandmaster and currently the World Chess Champion. He achieved grandmaster status at the age of 13, and won the Norwegian Chess Championship at age 15. He first reached the top of the FIDE world rankings in 2010, and became the World Champion in 2013 after defeating Viswanathan Anand. He achieved his highest Elo rating (2882) in 2014.\n",
    "\n",
    "He played aggressively when he was young, but soon realized that it is ineffective when playing competitively. He later adopted a more universal playing style, to make it harder for his oponents to prepare against him and to reduce the effect of computer analysis. He says that the middlegame is his favorite part of the game, as it comes down to \"pure chess\". He has also been trying to put more emphasis on creative play, saying that \"you cannot always win games by superior technique\".\n",
    "\n",
    "Carlsen has been trained in the Norwegian College of Elite Sport, under the mentorship of Grandmaster Simen Agdestein. From 2009-10, he was being coached by former World Champion Gary Kasparov.\n",
    "\n",
    "#### Wesley So\n",
    "\n",
    "Wesley So (25 years old) is a Filipino-American chess grandmaster, three-time Filipino Chess Champion, and was the US Chess Champion in 2017. As of 2017, he is ranked number 2 and had an Elo rating of 2822. He represented the Philippines until his transfer to the US in 2014.\n",
    "\n",
    "In his early years, he adopted an aggressive and tactical style of play. He was mostly self-taught and made it to the top 10 on his own. From 2016-17, he was being mentored by Vladimir Tukmakov, and managed to raise his rating by about 60 points with his help.\n",
    "\n",
    "In an interview, he mentions that he dislikes the prevalence of chess engines in recent years. He feels that since there are 10 million games in the database, it is very hard to create original play. The engines are getting stronger through the years, so it feels like you need to memorize roughly 20-25 moves just to get a game. His favorite chess format is chess960.\n",
    "\n",
    "#### Objectives\n",
    "\n",
    "We want to answer the following questions in this study:\n",
    "\n",
    "* What are the preferred openings of both players? How successful are they when they use these openings?\n",
    "* Do the players prefer to play a long game or a short game? On average, how many moves do they make before securing a win?\n",
    "* What strategies did they employ when the two played against each other?"
   ]
  },
  {
   "cell_type": "markdown",
   "metadata": {},
   "source": []
  },
  {
   "cell_type": "markdown",
   "metadata": {},
   "source": [
    "## Web Scraping Methods\n",
    "\n",
    "The data was extracted from the database of http://www.chessgames.com. The code below was used to scrape data from the site to perform an analysis on the top player's performance based on openings. The scraping can be divided into 2 parts. The first part is on the player directory, the second is on the games directory for each selected player.\n",
    "\n",
    "#### Import section\n",
    "\n",
    "First we import all relevant packages to be used in the scraping and analysis. We've also add in a proxy argument so that the scraping does not get mistaken for a DDOS attack."
   ]
  },
  {
   "cell_type": "code",
   "execution_count": null,
   "metadata": {
    "ExecuteTime": {
     "end_time": "2019-06-04T18:41:03.546536Z",
     "start_time": "2019-06-04T18:41:03.459276Z"
    }
   },
   "outputs": [],
   "source": [
    "import requests\n",
    "from bs4 import BeautifulSoup\n",
    "import urllib.request\n",
    "import os\n",
    "import re\n",
    "import pandas as pd\n",
    "import numpy as np\n",
    "import re\n",
    "from time import sleep\n",
    "import random\n",
    "from functools import reduce\n",
    "import sqlite3\n",
    "\n",
    "os.environ['HTTP_PROXY'] = 'http://171.255.192.118:8080'"
   ]
  },
  {
   "cell_type": "markdown",
   "metadata": {},
   "source": [
    "After importing the necessary packages, we then declare the custom functions to be used for the first and second part of the scraping activity. For housekeeping reasons, the function declaration for these two parts were separated. Below is the declaration for the first part: the player directory.\n",
    "\n",
    "#### Function Declaration for Player Directory Scraping\n",
    "\n",
    "* dir2df: finds and then converts the html table of players into a dataframe\n",
    "* d2_access: scans the main page of the directory and returns a list of urls for the other directories to be accessed\n",
    "* gen_pdf: aggregates, clean, formats the raw dataframe, row reduction can also be done depending on the criteria\n",
    "* pid2df: finds the player ids on the current page and then returns them as a dataframe"
   ]
  },
  {
   "cell_type": "code",
   "execution_count": null,
   "metadata": {
    "ExecuteTime": {
     "end_time": "2019-06-04T18:25:26.359009Z",
     "start_time": "2019-06-04T18:25:25.957467Z"
    }
   },
   "outputs": [],
   "source": [
    "def dir2df(soup):\n",
    "    '''Converts directory tables into a dataframe.\n",
    "    \n",
    "    Input:\n",
    "        soup: soup object from the scraped web page\n",
    "\n",
    "    Return:\n",
    "        df_dir: directory data in the form of a dataframe\n",
    "    '''\n",
    "\n",
    "    # get the td tag, delete repeating\n",
    "    td = soup.findAll('td',{'valign':'TOP'})\n",
    "    td.pop(0)\n",
    "    td.pop(1)\n",
    "\n",
    "    # get the table within the td tag then convert to df\n",
    "    raw_tab = list(map(lambda x: x.findAll('table')[0], td))\n",
    "    df_temp = [pd.read_html(str(tag)) for tag in raw_tab]\n",
    "\n",
    "    # unpack the list of lists then append the df into one df\n",
    "    df_list = [df[0] for df in df_temp]\n",
    "    df_dir = reduce(lambda x, y: x.append(y), df_list).drop(1, axis=1)\n",
    "\n",
    "    # format the df\n",
    "    df_dir.columns = df_dir.iloc[0]\n",
    "    df_dir = df_dir.drop(0)\n",
    "\n",
    "    return df_dir\n",
    "\n",
    "def d2_access(soup):\n",
    "    '''From the soup, creates a list of directory links to be scraped.\n",
    "    \n",
    "    Input:\n",
    "        soup: soup object from the scraped web page\n",
    "\n",
    "    Return:\n",
    "        d_links: list of links to access and scrape from\n",
    "    '''\n",
    "\n",
    "    all_d = ' '.join(map(lambda x: str(x),\n",
    "                         soup.select('a[href*=\"/directory/\"]')))\n",
    "    regd = re.compile(r'[/]{1}directory[/]{1}[A-Z].html')\n",
    "    d_links = regd.findall(all_d)\n",
    "    d_links = list(map(lambda x: 'http://www.chessgames.com'+x, d_links))\n",
    "\n",
    "    # there are repeating links\n",
    "    d_links = d_links[0:25]\n",
    "    return d_links\n",
    "\n",
    "def gen_pdf(df_list, games=1000):\n",
    "    '''Aggregates and formats the list of dataframes taken from the player\n",
    "    directory. Selects only players with a certain number of games (default \n",
    "    is 1000). PLayers with Nan ratings are dropped.\n",
    "    \n",
    "    Input:\n",
    "        df_list: list of dataframes from the player directory\n",
    "        games: minimum number of games needed to be considered\n",
    "    \n",
    "    Return:\n",
    "        df: formatted dataframe resulting from the aggregation of the df_list\n",
    "    '''\n",
    "    \n",
    "    # Aggregate the dataframes into 1\n",
    "    df = reduce(lambda x, y: x.append(y), df_list)\n",
    "    df['# ofGames'] = df['# ofGames'].apply(lambda x: int(x))\n",
    "    df = df.reset_index(drop=True)\n",
    "    \n",
    "    # Select only players with a certain number of games\n",
    "    df = df[df['# ofGames']>games]\n",
    "    df = df.dropna(how='any')\n",
    "    df = df.sort_values('highestrating', ascending=False)\n",
    "    \n",
    "    # Formats the name column and divides it into two more:\n",
    "    # last name and first name\n",
    "    temp = df['player name'].str.split(',', expand=True)\n",
    "    df[\"Last Name\"]= temp[0] \n",
    "    df[\"First Name\"]= temp[1].str.strip()\n",
    "\n",
    "    return df\n",
    "\n",
    "def pid2df(df, plinks):\n",
    "    '''Takes in the players dataframe and list of player links to slice.\n",
    "    Returns the player id of the players in the form of a dataframe, as\n",
    "    well as the links to their pages.\n",
    "    \n",
    "    Input:\n",
    "        df: top players dataframe\n",
    "        plinks: list of player links\n",
    "\n",
    "    Return:\n",
    "        df_pid: dataframe of top player ids\n",
    "        top_plinks: list of links of the top players\n",
    "    '''\n",
    "    top_plinks = []\n",
    "    for i in df.index:\n",
    "        top_plinks.append(plinks[i])\n",
    "\n",
    "    pid_pat = re.compile(r'pid=(\\d+)')\n",
    "\n",
    "    p_ids = list(map(lambda x: pid_pat.findall(x)[0], top_plinks))\n",
    "    temp = dict(enumerate(p_ids))\n",
    "    df_pid = pd.DataFrame(temp.values(), index=temp.keys(), columns=['PID'])\n",
    "\n",
    "    return (df_pid, top_plinks)"
   ]
  },
  {
   "cell_type": "markdown",
   "metadata": {},
   "source": [
    "#### Function Declaration for Games Directory Scraping\n",
    "\n",
    "* games2df: finds and then converts the html table of games into a dataframe\n",
    "* scrape_g: scrapes either the win or lose section (sleeps in between pages), returns a summary dataframe and a list of pages where the scrape failed\n",
    "* gen_gdf: formats and adds to the game dataframe for further ease of processing\n",
    "* blackorwhite: tags the game based on what the person of interest is playing as"
   ]
  },
  {
   "cell_type": "code",
   "execution_count": null,
   "metadata": {
    "ExecuteTime": {
     "end_time": "2019-06-04T18:25:28.750541Z",
     "start_time": "2019-06-04T18:25:28.153943Z"
    }
   },
   "outputs": [],
   "source": [
    "def games2df(soup):\n",
    "    '''Searches soup element for html table of interest then converts it to \n",
    "    a dataframe.\n",
    "    \n",
    "    Inputs: soup element\n",
    "        soup to be processed\n",
    "\n",
    "    Returns:\n",
    "        dataframe\n",
    "        \n",
    "    '''\n",
    "    table = soup.findAll('table',{'cellpadding':'3'})\n",
    "    raw_str = str(table[0])\n",
    "    df_list = pd.read_html(raw_str)\n",
    "    df = df_list[0].drop(labels=1, axis=1)\n",
    "    df.columns = df.iloc[0]\n",
    "    df = df.drop(0)\n",
    "\n",
    "    return df\n",
    "\n",
    "def scrape_g(pname, p, wol):\n",
    "    '''\n",
    "    '''\n",
    "    \n",
    "    # Initialization\n",
    "    pat = re.compile(r'of (\\d+);')\n",
    "    fail_pages = []\n",
    "    \n",
    "    headers = {x[0]:x[1] for x in re.findall('(.*?): (.*?)$',\n",
    "    '''Accept: text/html,application/xhtml+xml,application/xml;q=0.9,image/webp,image/apng,*/*;q=0.8,application/signed-exchange;v=b3\n",
    "Accept-Encoding: gzip, deflate\n",
    "Accept-Language: en-US,en;q=0.9\n",
    "Cache-Control: max-age=0\n",
    "Connection: keep-alive\n",
    "Cookie: _fbp=fb.1.1558572684285.1388907436; __utmc=1; __utma=1.414299110.1558572684.1559659569.1559666044.15; __utmz=1.1559666044.15.5.utmcsr=google|utmccn=(organic)|utmcmd=organic|utmctr=(not%20provided); __utmb=1.5.10.1559666044\n",
    "Host: www.chessgames.com\n",
    "Upgrade-Insecure-Requests: 1\n",
    "User-Agent: Mozilla/5.0 (Windows NT 10.0; Win64; x64) AppleWebKit/537.36 (KHTML, like Gecko) Chrome/74.0.3729.169 Safari/537.36\n",
    "''', re.M)}\n",
    "\n",
    "    # separate links for wins and losses\n",
    "    path0 = 'http://www.chessgames.com/perl/chess.pl?page=1&pid='\n",
    "    if wol == 'win':\n",
    "        url = path0 + p + '&result=1st'\n",
    "    elif wol == 'draw':\n",
    "        url = path0 + p + '&result=1/2-1/2'\n",
    "    else:\n",
    "        url = path0 + p + '&result=2nd'\n",
    "\n",
    "    p_page = requests.get(url, headers=headers)\n",
    "    p_soup = BeautifulSoup(p_page.text,'lxml')\n",
    "    \n",
    "    print(p_page)\n",
    "    # get the number of pages we need to scrape\n",
    "    temp = p_soup.findAll('td',{'align':'LEFT'})\n",
    "    print(temp)\n",
    "    n_pg = pat.findall(temp[0].text)[0]\n",
    "    sleep(random.uniform(3,7))\n",
    "    \n",
    "    # scrape through the pages\n",
    "    g_list = []\n",
    "    path1 = 'http://www.chessgames.com/perl/chess.pl?page='\n",
    "    for i in range(1,int(n_pg)+1):\n",
    "        \n",
    "        pg = str(i)\n",
    "        if wol == 'win':\n",
    "            print(f'scraping wins of {pname} page {i} of {int(n_pg)+1}')\n",
    "            url = path1 + pg + '&pid='+p+'&result=1st'\n",
    "        elif wol == 'draw':\n",
    "            print(f'scraping draws of {pname} page {i} of {int(n_pg)+1}')\n",
    "            url = path1 + pg + '&pid='+p+'&result=1/2-1/2'\n",
    "        else:\n",
    "            print(f'scraping losses of {pname} page {i} of {int(n_pg)+1}')\n",
    "            url = path1 + pg + '&pid='+p+'&result=2nd'\n",
    "\n",
    "        p_page = requests.get(url)\n",
    "\n",
    "        # append any failing links to the fail_pages list for check\n",
    "        if '200' in str(p_page):\n",
    "            pass\n",
    "        else:\n",
    "            print(f'{url}: not ok, skipping')\n",
    "            fail_pages.append(url)\n",
    "            continue\n",
    "        \n",
    "        # generate the soup and then conver\n",
    "        p_soup = BeautifulSoup(p_page.text,'lxml')\n",
    "        df_g = games2df(p_soup)\n",
    "        df_g = gen_gdf(df_g, pname, wol)\n",
    "        g_list.append(df_g)\n",
    "        \n",
    "        sleep(random.uniform(3,8))\n",
    "    \n",
    "    df_games = reduce(lambda x, y: x.append(y), g_list)\n",
    "\n",
    "    return (df_games, fail_pages)\n",
    "\n",
    "def gen_gdf(df, player, wol):\n",
    "    '''Formats the games dataframe into general format to be used by all \n",
    "    scrapes.\n",
    "    \n",
    "    Inputs:\n",
    "        df: dataframe to format\n",
    "        wol: appends 'Win' or 'Lose' on a column\n",
    "    Returns\n",
    "        formatted dataframe\n",
    "    '''\n",
    "\n",
    "    df = df.sort_values('Year')\n",
    "    df = df.reset_index(drop=True)\n",
    "    df['Game'] = df['Game'].apply(lambda x:\n",
    "                                  re.findall(r'\\D+',\n",
    "                                             x.replace('.',''))[0].strip())\n",
    "    df['From'] = df['Game'].apply(lambda x: player)\n",
    "    temp = df['Game'].str.split('vs', expand=True)\n",
    "    df[\"White\"]= temp[0] \n",
    "    df[\"Black\"]= temp[1].str.strip()\n",
    "    df['Result'] = df['Result'].apply(lambda x:player+'-'+wol)\n",
    "\n",
    "    return df"
   ]
  },
  {
   "cell_type": "markdown",
   "metadata": {},
   "source": [
    "#### Players Directory Scrape\n",
    "\n",
    "Scrape the first page of the directory and create a list of links for the directories to be accessed; also list down the links for the different players."
   ]
  },
  {
   "cell_type": "code",
   "execution_count": null,
   "metadata": {
    "ExecuteTime": {
     "end_time": "2019-06-04T16:53:34.349965Z",
     "start_time": "2019-06-04T16:53:32.850688Z"
    }
   },
   "outputs": [],
   "source": [
    "# Initialization on directory page no.1:\n",
    "headers = {x[0]:x[1] for x in re.findall('(.*?): (.*?)$',\n",
    "    '''Accept: text/html,application/xhtml+xml,application/xml;q=0.9,image/webp,image/apng,*/*;q=0.8,application/signed-exchange;v=b3\n",
    "Accept-Encoding: gzip, deflate\n",
    "Accept-Language: en-US,en;q=0.9\n",
    "Cache-Control: max-age=0\n",
    "Connection: keep-alive\n",
    "Cookie: _fbp=fb.1.1558572684285.1388907436; __utmc=1; __utma=1.414299110.1558572684.1559659569.1559666044.15; __utmz=1.1559666044.15.5.utmcsr=google|utmccn=(organic)|utmcmd=organic|utmctr=(not%20provided); __utmb=1.5.10.1559666044\n",
    "Host: www.chessgames.com\n",
    "Upgrade-Insecure-Requests: 1\n",
    "User-Agent: Mozilla/5.0 (Windows NT 10.0; Win64; x64) AppleWebKit/537.36 (KHTML, like Gecko) Chrome/74.0.3729.169 Safari/537.36\n",
    "''', re.M)}\n",
    "\n",
    "url = 'http://www.chessgames.com/directory/'\n",
    "d_page = requests.get(url, headers=headers)\n",
    "d_soup = BeautifulSoup(d_page.text,'lxml')\n",
    "\n",
    "# Create a list of dataframes from the soup\n",
    "df_list = []\n",
    "df_list.append(dir2df(d_soup))\n",
    "\n",
    "# Create a list of all other directories to access.\n",
    "d_links = d2_access(d_soup)\n",
    "\n",
    "# For players\n",
    "pl_list = d_soup.select('a[href*=\"/perl/chessplayer?pid=\"]')\n",
    "plinks = ['http://www.chessgames.com'+link.get('href') for link in pl_list]"
   ]
  },
  {
   "cell_type": "markdown",
   "metadata": {},
   "source": [
    "Loop through the remaining directories and sleep for a random amount of time after each page. For every page convert the html table into a dataframe and then append it into a list. Note that the code will automatically append the urls that failed however this does not take into account the cases where the page was redirect by an anti-bot system, or if the page just failed to load due to slow internet."
   ]
  },
  {
   "cell_type": "code",
   "execution_count": null,
   "metadata": {
    "ExecuteTime": {
     "end_time": "2019-06-04T16:56:24.475725Z",
     "start_time": "2019-06-04T16:53:35.649783Z"
    }
   },
   "outputs": [],
   "source": [
    "fail_pages = []\n",
    "for i, link in enumerate(d_links):\n",
    "    d_page = requests.get(link, headers=headers)\n",
    "\n",
    "    if '200' in str(d_page):\n",
    "        pass\n",
    "    else:\n",
    "        print('not ok, skipping')\n",
    "        fail_page.append(link)\n",
    "        continue\n",
    "\n",
    "    d_soup = BeautifulSoup(d_page.text,'lxml')\n",
    "    pl_list = d_soup.select('a[href*=\"/perl/chessplayer?pid=\"]')\n",
    "    plinks += ['http://www.chessgames.com'+link.get('href')\n",
    "               for link in pl_list]\n",
    "    df_list.append(dir2df(d_soup))\n",
    "    sleep(random.uniform(4,8))"
   ]
  },
  {
   "cell_type": "markdown",
   "metadata": {},
   "source": [
    "Create a general dataframe, also list down the links to the pages of the top players (in case there's a need or want for further analysis)."
   ]
  },
  {
   "cell_type": "code",
   "execution_count": null,
   "metadata": {
    "ExecuteTime": {
     "end_time": "2019-06-04T16:56:35.928809Z",
     "start_time": "2019-06-04T16:56:35.827367Z"
    }
   },
   "outputs": [],
   "source": [
    "# Select the top players and format them into a dataftame\n",
    "# Criteria: must have 1k games in database\n",
    "# NOTE: index not reset\n",
    "df_players = gen_pdf(df_list, games=1000)\n",
    "\n",
    "# get the links of the top players, as well as player id\n",
    "df_pid, topp_links = pid2df(df_players, plinks)\n",
    "\n",
    "# Reset index of top players then merge with player id dataframe\n",
    "df_players = df_players.reset_index(drop=True)\n",
    "df_players = df_players.join(df_pid)\n",
    "df_players.columns = ['Highest_Rating', 'Player_Name', 'Years',\n",
    "                      'Num_Games', 'Last_Name', 'First_Name', 'ID']"
   ]
  },
  {
   "cell_type": "markdown",
   "metadata": {},
   "source": [
    "Save the summary dataframe to the sqlite database for easier access (instead of having to repeat the scraping). The sqlite database is named named \"chessgames\" and the name of the table is \"player_index\". "
   ]
  },
  {
   "cell_type": "code",
   "execution_count": null,
   "metadata": {
    "ExecuteTime": {
     "end_time": "2019-06-04T15:03:15.178285Z",
     "start_time": "2019-06-04T15:03:15.059072Z"
    }
   },
   "outputs": [],
   "source": [
    "df_players.to_csv('player_index.csv')\n",
    "conn = sqlite3.connect('chessgames')\n",
    "df_players.to_sql('player_index', conn, if_exists='replace')\n",
    "conn.close()"
   ]
  },
  {
   "cell_type": "markdown",
   "metadata": {},
   "source": [
    "#### Scraping the Game Directory of a Selected Group of Players:\n",
    "\n",
    "Using the summary dataframe of players, loop through the dataframe and take into account the last name, first name and PID of the players of interest. The PID will be used to access the remaining directories via changing the url's pid to the desired pid. Each player's games is converted to a dataframe and is appended to the sqlite table 'games' found on 'chessgames' database."
   ]
  },
  {
   "cell_type": "code",
   "execution_count": null,
   "metadata": {
    "ExecuteTime": {
     "end_time": "2019-06-04T15:03:18.145758Z",
     "start_time": "2019-06-04T15:03:18.112116Z"
    }
   },
   "outputs": [],
   "source": [
    "fpages =[]"
   ]
  },
  {
   "cell_type": "code",
   "execution_count": null,
   "metadata": {
    "ExecuteTime": {
     "end_time": "2019-06-04T18:48:12.948293Z",
     "start_time": "2019-06-04T18:41:35.612428Z"
    }
   },
   "outputs": [],
   "source": [
    "# Get the games summary of player and place into sql database\n",
    "\n",
    "# Create / Open the Database\n",
    "# conn = sqlite3.connect('chessgames')\n",
    "\n",
    "# do we want to iterate over all these players?\n",
    "for j, row in df_players.iloc[0:5][['Last_Name', 'First_Name', \n",
    "                                    'ID']].iterrows():\n",
    "\n",
    "    pname = row['Last_Name'].strip()\n",
    "    p = str(row['ID'])\n",
    "\n",
    "    df_wins, tempf1 = scrape_g(pname, p, 'win')\n",
    "    df_draw, tempf3 = scrape_g(pname, p, 'draw')\n",
    "    df_lose, tempf2 = scrape_g(pname, p, 'lose')\n",
    "    \n",
    "    fpages += tempf1\n",
    "    fpages += tempf2\n",
    "    fpages += tempf3\n",
    "\n",
    "    df_final = df_wins.append(df_lose)\n",
    "    df_final = df_final.append(df_draw)\n",
    "\n",
    "#     df_final.to_sql('games', conn, if_exists='append')\n",
    "    df_final.to_csv(f'{p}.csv')\n",
    "conn.close()\n",
    "# print(len(f_pages))"
   ]
  },
  {
   "cell_type": "markdown",
   "metadata": {},
   "source": []
  },
  {
   "cell_type": "markdown",
   "metadata": {},
   "source": [
    "## Analysis of Chess Games\n",
    "\n",
    "After extracting the data from http://www.chessgames.com, we do some exploratory data analysis. First, we do some housekeeping and cleaning of the data."
   ]
  },
  {
   "cell_type": "code",
   "execution_count": 1,
   "metadata": {},
   "outputs": [],
   "source": [
    "import pandas as pd\n",
    "import seaborn as sns\n",
    "import sqlite3\n",
    "import matplotlib.pyplot as plt"
   ]
  },
  {
   "cell_type": "markdown",
   "metadata": {},
   "source": [
    "The cell below creates a table of all the games of Carlsen and another table for all the games of So. Another table is created for the games where they faced each other."
   ]
  },
  {
   "cell_type": "code",
   "execution_count": 2,
   "metadata": {},
   "outputs": [
    {
     "name": "stdout",
     "output_type": "stream",
     "text": [
      "table exist, dropping first...\n",
      "table exist, dropping first...\n",
      "table exist, dropping first...\n"
     ]
    }
   ],
   "source": [
    "con = sqlite3.connect('chessgames')\n",
    "cursorObj = con.cursor()\n",
    "\n",
    "# Create a table for Carlsen for 2003 onward.\n",
    "try:\n",
    "    cursorObj.execute(\"\"\"CREATE TABLE carlsen AS SELECT * FROM games \n",
    "    WHERE Result LIKE 'CARLSEN%' AND Year >= 2003\"\"\")\n",
    "    con.commit()\n",
    "except:\n",
    "    print('table exist, dropping first...')\n",
    "    cursorObj.execute(\"DROP TABLE carlsen\")\n",
    "    cursorObj.execute(\"\"\"CREATE TABLE carlsen AS SELECT * FROM games \n",
    "    WHERE Result LIKE 'CARLSEN%' AND Year >= 2003\"\"\")\n",
    "    con.commit()\n",
    "\n",
    "# Create a table for Wesley So\n",
    "try:\n",
    "    cursorObj.execute(\"\"\"CREATE TABLE so AS SELECT * FROM games \n",
    "    WHERE Result LIKE 'SO%'\"\"\")\n",
    "    con.commit()\n",
    "\n",
    "except:\n",
    "    print('table exist, dropping first...')\n",
    "    cursorObj.execute(\"DROP TABLE so\")\n",
    "    cursorObj.execute(\"\"\"CREATE TABLE so AS SELECT * FROM games \n",
    "    WHERE Result LIKE 'SO%'\"\"\")\n",
    "    con.commit()\n",
    "\n",
    "# Create a table where Carlsen and So intersect on games (they played each other)\n",
    "try:\n",
    "    cursorObj.execute('''CREATE TABLE versus AS SELECT * FROM so s \n",
    "    INNER JOIN carlsen c ON \n",
    "    s.Game = c.Game AND s.Moves = c.Moves AND s.Year = c.Year AND \n",
    "    s.Opening = c.Opening AND \n",
    "    s.White = c.White AND s.Black = c.Black\n",
    "    ''')\n",
    "    con.commit()\n",
    "\n",
    "except:\n",
    "    print('table exist, dropping first...')\n",
    "    cursorObj.execute(\"DROP TABLE versus\")\n",
    "    cursorObj.execute('''CREATE TABLE versus AS SELECT * FROM so s \n",
    "    INNER JOIN carlsen c ON \n",
    "    s.Game = c.Game AND s.Moves = c.Moves AND s.Year = c.Year AND \n",
    "    s.Opening = c.Opening AND \n",
    "    s.White = c.White AND s.Black = c.Black\n",
    "    ''')\n",
    "    con.commit()"
   ]
  },
  {
   "cell_type": "markdown",
   "metadata": {},
   "source": [
    "We add the column for the opening game (excluding the variations) in the cell below."
   ]
  },
  {
   "cell_type": "code",
   "execution_count": 3,
   "metadata": {},
   "outputs": [
    {
     "data": {
      "text/plain": [
       "<sqlite3.Cursor at 0x7f6de45f1ea0>"
      ]
     },
     "execution_count": 3,
     "metadata": {},
     "output_type": "execute_result"
    }
   ],
   "source": [
    "# Get the General Names of the Openings\n",
    "copen = cursorObj.execute(\"SELECT Opening FROM carlsen\").fetchall()\n",
    "sopen = cursorObj.execute(\"SELECT Opening FROM so\").fetchall()\n",
    "openings_c = list(map(lambda x: x[0].split(',')[0].split(' ',1)[1], copen))\n",
    "openings_s = list(map(lambda x: x[0].split(',')[0].split(' ',1)[1], sopen))\n",
    "\n",
    "# Add new column on carlsen and so tables for general name of opening\n",
    "cursorObj.execute('''ALTER TABLE carlsen ADD COLUMN gen_op''')\n",
    "cursorObj.execute('''ALTER TABLE so ADD COLUMN gen_op''')\n",
    "cursorObj.executemany('UPDATE carlsen SET gen_op= ? WHERE rowid =?', \n",
    "                      ((val,i+1) for (i, val) in enumerate(openings_c)))\n",
    "cursorObj.executemany('UPDATE so SET gen_op= ? WHERE rowid =?', \n",
    "                      ((val,i+1) for (i, val) in enumerate(openings_s)))"
   ]
  },
  {
   "cell_type": "markdown",
   "metadata": {},
   "source": [
    "#### Favored Opening Game: Carlsen\n",
    "\n",
    "Looking at all the games played by Magnus Carlsen in chessgames.com, he used 57 unique openings (not counting variations). The cells below extract the top opening games used by Carlsed, as recorded in the database.\n",
    "\n",
    "Note that the data being considered does not take into account the results of the match."
   ]
  },
  {
   "cell_type": "code",
   "execution_count": 4,
   "metadata": {},
   "outputs": [
    {
     "data": {
      "text/html": [
       "<div>\n",
       "<style scoped>\n",
       "    .dataframe tbody tr th:only-of-type {\n",
       "        vertical-align: middle;\n",
       "    }\n",
       "\n",
       "    .dataframe tbody tr th {\n",
       "        vertical-align: top;\n",
       "    }\n",
       "\n",
       "    .dataframe thead th {\n",
       "        text-align: right;\n",
       "    }\n",
       "</style>\n",
       "<table border=\"1\" class=\"dataframe\">\n",
       "  <thead>\n",
       "    <tr style=\"text-align: right;\">\n",
       "      <th></th>\n",
       "      <th>gen_op</th>\n",
       "      <th>game_count</th>\n",
       "    </tr>\n",
       "  </thead>\n",
       "  <tbody>\n",
       "    <tr>\n",
       "      <th>0</th>\n",
       "      <td>Sicilian</td>\n",
       "      <td>456</td>\n",
       "    </tr>\n",
       "    <tr>\n",
       "      <th>1</th>\n",
       "      <td>Ruy Lopez</td>\n",
       "      <td>353</td>\n",
       "    </tr>\n",
       "    <tr>\n",
       "      <th>2</th>\n",
       "      <td>English</td>\n",
       "      <td>192</td>\n",
       "    </tr>\n",
       "    <tr>\n",
       "      <th>3</th>\n",
       "      <td>Queen's Gambit Declined</td>\n",
       "      <td>182</td>\n",
       "    </tr>\n",
       "    <tr>\n",
       "      <th>4</th>\n",
       "      <td>Queen's Pawn Game</td>\n",
       "      <td>152</td>\n",
       "    </tr>\n",
       "  </tbody>\n",
       "</table>\n",
       "</div>"
      ],
      "text/plain": [
       "                    gen_op  game_count\n",
       "0                 Sicilian         456\n",
       "1                Ruy Lopez         353\n",
       "2                  English         192\n",
       "3  Queen's Gambit Declined         182\n",
       "4        Queen's Pawn Game         152"
      ]
     },
     "metadata": {},
     "output_type": "display_data"
    },
    {
     "name": "stdout",
     "output_type": "stream",
     "text": [
      "Number of Unique Openings (not counting variations): 57\n"
     ]
    }
   ],
   "source": [
    "# Opening Frequency of Usage\n",
    "uniq_o = cursorObj.execute(\n",
    "    '''SELECT gen_op, COUNT(Game) AS game_count FROM carlsen GROUP BY gen_op \n",
    "    ORDER BY game_count DESC ''')\n",
    "    \n",
    "colnames = [tup[0] for tup in uniq_o.description]\n",
    "df1 = pd.DataFrame(uniq_o, columns=colnames)\n",
    "display(df1.head())\n",
    "\n",
    "# number of unique openings\n",
    "cnt_op = df1['gen_op'].nunique()\n",
    "print(f'Number of Unique Openings (not counting variations): {cnt_op}')"
   ]
  },
  {
   "cell_type": "code",
   "execution_count": 5,
   "metadata": {},
   "outputs": [
    {
     "name": "stdout",
     "output_type": "stream",
     "text": [
      "Top 15 games cover: 81.02\n",
      "\n",
      "Top 15 most used openings (and their variations) cover more than 80% of his games\n"
     ]
    },
    {
     "data": {
      "image/png": "[encoded data removed]",
      "text/plain": [
       "<Figure size 432x288 with 1 Axes>"
      ]
     },
     "metadata": {
      "needs_background": "light"
     },
     "output_type": "display_data"
    }
   ],
   "source": [
    "# cumulative frequency plot of openings\n",
    "fig, axc = plt.subplots()\n",
    "\n",
    "df1['%freq'] = df1['game_count'].apply(lambda x: \n",
    "                                       100*x/df1['game_count'].sum())\n",
    "print(f\"Top 15 games cover: {round(df1.head(15)['%freq'].sum(),2)}\")\n",
    "df1.reset_index()['%freq'].cumsum().plot(grid=True, ylim=(0,105), \n",
    "                                         xlim=(-3,60), ax=axc)\n",
    "axc.set_xlabel('Index of Openings')\n",
    "axc.set_ylabel('Percentage of Games')\n",
    "print(f'\\nTop 15 most used openings (and their variations) cover more '\n",
    "      'than 80% of his games')\n",
    "\n",
    "# do groupby(Opening) count number of games per opening and sort values\n",
    "# do normalization on the game column then plot cumsum"
   ]
  },
  {
   "cell_type": "code",
   "execution_count": 6,
   "metadata": {},
   "outputs": [
    {
     "name": "stdout",
     "output_type": "stream",
     "text": [
      "Top 15 most used openings.\n"
     ]
    },
    {
     "data": {
      "image/png": "[encoded data removed]",
      "text/plain": [
       "<Figure size 432x288 with 1 Axes>"
      ]
     },
     "metadata": {
      "needs_background": "light"
     },
     "output_type": "display_data"
    }
   ],
   "source": [
    "print(f'Top 15 most used openings.')\n",
    "sns.barplot(df1.iloc[0:15]['game_count'], df1.iloc[0:15]['gen_op']);\n",
    "\n",
    "# do get top 15 games via SQL query"
   ]
  },
  {
   "cell_type": "markdown",
   "metadata": {},
   "source": [
    "#### Favored Opening Game: So\n",
    "\n",
    "Looking at all the games played by Wesley So, he used 52 unique openings (not counting variations). The cells below extract the top opening games used by So, as recorded in the database.\n",
    "\n",
    "Note that the data being considered does not take into account the results of the match."
   ]
  },
  {
   "cell_type": "code",
   "execution_count": 7,
   "metadata": {},
   "outputs": [
    {
     "data": {
      "text/html": [
       "<div>\n",
       "<style scoped>\n",
       "    .dataframe tbody tr th:only-of-type {\n",
       "        vertical-align: middle;\n",
       "    }\n",
       "\n",
       "    .dataframe tbody tr th {\n",
       "        vertical-align: top;\n",
       "    }\n",
       "\n",
       "    .dataframe thead th {\n",
       "        text-align: right;\n",
       "    }\n",
       "</style>\n",
       "<table border=\"1\" class=\"dataframe\">\n",
       "  <thead>\n",
       "    <tr style=\"text-align: right;\">\n",
       "      <th></th>\n",
       "      <th>gen_op</th>\n",
       "      <th>game_count</th>\n",
       "    </tr>\n",
       "  </thead>\n",
       "  <tbody>\n",
       "    <tr>\n",
       "      <th>0</th>\n",
       "      <td>Sicilian</td>\n",
       "      <td>176</td>\n",
       "    </tr>\n",
       "    <tr>\n",
       "      <th>1</th>\n",
       "      <td>Ruy Lopez</td>\n",
       "      <td>148</td>\n",
       "    </tr>\n",
       "    <tr>\n",
       "      <th>2</th>\n",
       "      <td>English</td>\n",
       "      <td>141</td>\n",
       "    </tr>\n",
       "    <tr>\n",
       "      <th>3</th>\n",
       "      <td>Queen's Gambit Declined</td>\n",
       "      <td>116</td>\n",
       "    </tr>\n",
       "    <tr>\n",
       "      <th>4</th>\n",
       "      <td>Queen's Pawn Game</td>\n",
       "      <td>81</td>\n",
       "    </tr>\n",
       "  </tbody>\n",
       "</table>\n",
       "</div>"
      ],
      "text/plain": [
       "                    gen_op  game_count\n",
       "0                 Sicilian         176\n",
       "1                Ruy Lopez         148\n",
       "2                  English         141\n",
       "3  Queen's Gambit Declined         116\n",
       "4        Queen's Pawn Game          81"
      ]
     },
     "metadata": {},
     "output_type": "display_data"
    },
    {
     "name": "stdout",
     "output_type": "stream",
     "text": [
      "Number of Unique Openings (not counting variations): 52\n"
     ]
    }
   ],
   "source": [
    "# Opening Frequency of Usage\n",
    "uniq_o = cursorObj.execute(\n",
    "    '''SELECT gen_op, COUNT(Game) AS game_count FROM so GROUP BY gen_op \n",
    "    ORDER BY game_count DESC ''')\n",
    "    \n",
    "colnames = [tup[0] for tup in uniq_o.description]\n",
    "df2 = pd.DataFrame(uniq_o, columns=colnames)\n",
    "display(df2.head())\n",
    "\n",
    "# number of unique openings\n",
    "cnt_op = df2['gen_op'].nunique()\n",
    "print(f'Number of Unique Openings (not counting variations): {cnt_op}')"
   ]
  },
  {
   "cell_type": "code",
   "execution_count": 8,
   "metadata": {},
   "outputs": [
    {
     "name": "stdout",
     "output_type": "stream",
     "text": [
      "Top 15 games cover: 82.71\n",
      "\n",
      "Top 15 most used openings (and their variations) cover more than 80% of his games\n"
     ]
    },
    {
     "data": {
      "image/png": "[encoded data removed]",
      "text/plain": [
       "<Figure size 432x288 with 1 Axes>"
      ]
     },
     "metadata": {
      "needs_background": "light"
     },
     "output_type": "display_data"
    }
   ],
   "source": [
    "# cumulative frequency plot of openings\n",
    "fig, axc = plt.subplots()\n",
    "\n",
    "df2['%freq'] = df2['game_count'].apply(lambda x: \n",
    "                                       100*x/df2['game_count'].sum())\n",
    "print(f\"Top 15 games cover: {round(df2.head(15)['%freq'].sum(),2)}\")\n",
    "df2.reset_index()['%freq'].cumsum().plot(grid=True, ylim=(0,105), \n",
    "                                         xlim=(-3,60), ax=axc)\n",
    "axc.set_xlabel('Index of Openings')\n",
    "axc.set_ylabel('Percentage of Games')\n",
    "print(f'\\nTop 15 most used openings (and their variations) cover more '\n",
    "      'than 80% of his games')\n",
    "\n",
    "# do groupby(Opening) count number of games per opening and sort values\n",
    "# do normalization on the game column then plot cumsum"
   ]
  },
  {
   "cell_type": "code",
   "execution_count": 9,
   "metadata": {},
   "outputs": [
    {
     "name": "stdout",
     "output_type": "stream",
     "text": [
      "Top 15 most used openings.\n"
     ]
    },
    {
     "data": {
      "image/png": "[encoded data removed]",
      "text/plain": [
       "<Figure size 432x288 with 1 Axes>"
      ]
     },
     "metadata": {
      "needs_background": "light"
     },
     "output_type": "display_data"
    }
   ],
   "source": [
    "print(f'Top 15 most used openings.')\n",
    "sns.barplot(df2.iloc[0:15]['game_count'], df2.iloc[0:15]['gen_op']);\n",
    "\n",
    "# do get top 15 games via SQL query"
   ]
  },
  {
   "cell_type": "markdown",
   "metadata": {},
   "source": [
    "#### Winning Strategies of Carlsen and So\n",
    "\n",
    "We are now going to explore the features of the games won by each player, based on the data extracted from http://www.chessgames.com. Some features we are going to explore include the openings he used, the number of moves it takes for him to win, and whether he played as White or Black.\n",
    "\n",
    "First, we look at the top winning openings of Carlsen in the cell below."
   ]
  },
  {
   "cell_type": "code",
   "execution_count": 10,
   "metadata": {},
   "outputs": [
    {
     "data": {
      "text/html": [
       "<div>\n",
       "<style scoped>\n",
       "    .dataframe tbody tr th:only-of-type {\n",
       "        vertical-align: middle;\n",
       "    }\n",
       "\n",
       "    .dataframe tbody tr th {\n",
       "        vertical-align: top;\n",
       "    }\n",
       "\n",
       "    .dataframe thead th {\n",
       "        text-align: right;\n",
       "    }\n",
       "</style>\n",
       "<table border=\"1\" class=\"dataframe\">\n",
       "  <thead>\n",
       "    <tr style=\"text-align: right;\">\n",
       "      <th></th>\n",
       "      <th>Opening</th>\n",
       "      <th>Num_Games</th>\n",
       "      <th>Per_Freq</th>\n",
       "      <th>Wins</th>\n",
       "      <th>Win_Ratio</th>\n",
       "    </tr>\n",
       "  </thead>\n",
       "  <tbody>\n",
       "    <tr>\n",
       "      <th>4</th>\n",
       "      <td>Queen's Pawn Game</td>\n",
       "      <td>152</td>\n",
       "      <td>5.770691</td>\n",
       "      <td>86</td>\n",
       "      <td>56.578947</td>\n",
       "    </tr>\n",
       "    <tr>\n",
       "      <th>12</th>\n",
       "      <td>King's Indian Attack</td>\n",
       "      <td>52</td>\n",
       "      <td>1.974184</td>\n",
       "      <td>29</td>\n",
       "      <td>55.769231</td>\n",
       "    </tr>\n",
       "    <tr>\n",
       "      <th>10</th>\n",
       "      <td>French</td>\n",
       "      <td>61</td>\n",
       "      <td>2.315869</td>\n",
       "      <td>33</td>\n",
       "      <td>54.098361</td>\n",
       "    </tr>\n",
       "    <tr>\n",
       "      <th>9</th>\n",
       "      <td>Reti Opening</td>\n",
       "      <td>69</td>\n",
       "      <td>2.619590</td>\n",
       "      <td>36</td>\n",
       "      <td>52.173913</td>\n",
       "    </tr>\n",
       "    <tr>\n",
       "      <th>8</th>\n",
       "      <td>King's Indian</td>\n",
       "      <td>93</td>\n",
       "      <td>3.530752</td>\n",
       "      <td>45</td>\n",
       "      <td>48.387097</td>\n",
       "    </tr>\n",
       "    <tr>\n",
       "      <th>6</th>\n",
       "      <td>Queen's Gambit Declined Slav</td>\n",
       "      <td>120</td>\n",
       "      <td>4.555809</td>\n",
       "      <td>56</td>\n",
       "      <td>46.666667</td>\n",
       "    </tr>\n",
       "    <tr>\n",
       "      <th>0</th>\n",
       "      <td>Sicilian</td>\n",
       "      <td>456</td>\n",
       "      <td>17.312073</td>\n",
       "      <td>208</td>\n",
       "      <td>45.614035</td>\n",
       "    </tr>\n",
       "    <tr>\n",
       "      <th>13</th>\n",
       "      <td>Queen's Gambit Declined Semi-Slav</td>\n",
       "      <td>51</td>\n",
       "      <td>1.936219</td>\n",
       "      <td>22</td>\n",
       "      <td>43.137255</td>\n",
       "    </tr>\n",
       "    <tr>\n",
       "      <th>7</th>\n",
       "      <td>Queen's Indian</td>\n",
       "      <td>120</td>\n",
       "      <td>4.555809</td>\n",
       "      <td>51</td>\n",
       "      <td>42.500000</td>\n",
       "    </tr>\n",
       "    <tr>\n",
       "      <th>3</th>\n",
       "      <td>Queen's Gambit Declined</td>\n",
       "      <td>182</td>\n",
       "      <td>6.909643</td>\n",
       "      <td>76</td>\n",
       "      <td>41.758242</td>\n",
       "    </tr>\n",
       "    <tr>\n",
       "      <th>2</th>\n",
       "      <td>English</td>\n",
       "      <td>192</td>\n",
       "      <td>7.289294</td>\n",
       "      <td>78</td>\n",
       "      <td>40.625000</td>\n",
       "    </tr>\n",
       "    <tr>\n",
       "      <th>1</th>\n",
       "      <td>Ruy Lopez</td>\n",
       "      <td>353</td>\n",
       "      <td>13.401670</td>\n",
       "      <td>143</td>\n",
       "      <td>40.509915</td>\n",
       "    </tr>\n",
       "    <tr>\n",
       "      <th>5</th>\n",
       "      <td>Nimzo-Indian</td>\n",
       "      <td>123</td>\n",
       "      <td>4.669704</td>\n",
       "      <td>48</td>\n",
       "      <td>39.024390</td>\n",
       "    </tr>\n",
       "    <tr>\n",
       "      <th>11</th>\n",
       "      <td>Grunfeld</td>\n",
       "      <td>60</td>\n",
       "      <td>2.277904</td>\n",
       "      <td>23</td>\n",
       "      <td>38.333333</td>\n",
       "    </tr>\n",
       "    <tr>\n",
       "      <th>14</th>\n",
       "      <td>Giuoco Piano</td>\n",
       "      <td>50</td>\n",
       "      <td>1.898254</td>\n",
       "      <td>19</td>\n",
       "      <td>38.000000</td>\n",
       "    </tr>\n",
       "  </tbody>\n",
       "</table>\n",
       "</div>"
      ],
      "text/plain": [
       "                              Opening  Num_Games   Per_Freq  Wins  Win_Ratio\n",
       "4                   Queen's Pawn Game        152   5.770691    86  56.578947\n",
       "12               King's Indian Attack         52   1.974184    29  55.769231\n",
       "10                             French         61   2.315869    33  54.098361\n",
       "9                        Reti Opening         69   2.619590    36  52.173913\n",
       "8                       King's Indian         93   3.530752    45  48.387097\n",
       "6        Queen's Gambit Declined Slav        120   4.555809    56  46.666667\n",
       "0                            Sicilian        456  17.312073   208  45.614035\n",
       "13  Queen's Gambit Declined Semi-Slav         51   1.936219    22  43.137255\n",
       "7                      Queen's Indian        120   4.555809    51  42.500000\n",
       "3             Queen's Gambit Declined        182   6.909643    76  41.758242\n",
       "2                             English        192   7.289294    78  40.625000\n",
       "1                           Ruy Lopez        353  13.401670   143  40.509915\n",
       "5                        Nimzo-Indian        123   4.669704    48  39.024390\n",
       "11                           Grunfeld         60   2.277904    23  38.333333\n",
       "14                       Giuoco Piano         50   1.898254    19  38.000000"
      ]
     },
     "execution_count": 10,
     "metadata": {},
     "output_type": "execute_result"
    }
   ],
   "source": [
    "# Filter wins, groupby Openings then count number of games\n",
    "# Concatenate with games count table then compute for the win-lose ratio\n",
    "player = cursorObj.execute(\n",
    "    '''SELECT * FROM carlsen''')\n",
    "\n",
    "colnames = [tup[0] for tup in player.description]\n",
    "df_carl = pd.DataFrame(player, columns=colnames)\n",
    "df_carl['Result'] = df_carl['Result'].apply(lambda x: x.split('-')[1])\n",
    "\n",
    "df_p = df_carl.groupby(['Result','gen_op'])['Game'].count()\n",
    "df_p = df_p.loc['win'].reset_index()\n",
    "\n",
    "df_rat = df1.merge(df_p, on='gen_op')\n",
    "df_rat['win_ratio'] = 100*df_rat['Game']/df_rat['game_count']\n",
    "df_rat.columns = ['Opening', 'Num_Games', 'Per_Freq', 'Wins', 'Win_Ratio']\n",
    "df_rat = df_rat[df_rat['Num_Games']>=50]\n",
    "df_rat = df_rat.sort_values('Win_Ratio', ascending=False)\n",
    "df_rat"
   ]
  },
  {
   "cell_type": "markdown",
   "metadata": {},
   "source": [
    "We subdivide the data further, and try to see if Carlsen uses different strategies when playing as White and when playing as Black."
   ]
  },
  {
   "cell_type": "code",
   "execution_count": 11,
   "metadata": {},
   "outputs": [
    {
     "data": {
      "image/png": "[encoded data removed]",
      "text/plain": [
       "<Figure size 720x720 with 2 Axes>"
      ]
     },
     "metadata": {
      "needs_background": "light"
     },
     "output_type": "display_data"
    }
   ],
   "source": [
    "fig, ax = plt.subplots(2,1, sharex=True)\n",
    "fig.set_size_inches(10,10)\n",
    "\n",
    "df_whitec = df_carl[df_carl['White'].apply(lambda x: x.strip())=='Carlsen']\n",
    "\n",
    "df_p = df_whitec.groupby(['Result','gen_op'])['Game'].count()\n",
    "df_p = df_p.loc['win'].reset_index()\n",
    "\n",
    "df_rat = df1.merge(df_p, on='gen_op')\n",
    "df_rat['win_ratio'] = 100*df_rat['Game']/df_rat['game_count']\n",
    "df_rat.columns = ['Opening', 'Num_Games', 'Per_Freq', 'Wins', 'Win_Ratio']\n",
    "df_rat = df_rat[df_rat['Num_Games']>=50]\n",
    "df_rat = df_rat.sort_values('Win_Ratio', ascending=False)\n",
    "sns.barplot(df_rat['Win_Ratio'],df_rat['Opening'], ax=ax[0])\n",
    "ax[0].set_title('Carlsen as White');\n",
    "\n",
    "df_blackc = df_carl[df_carl['Black'].apply(lambda x: x.strip())=='Carlsen']\n",
    "df_p = df_blackc.groupby(['Result','gen_op'])['Game'].count()\n",
    "df_p = df_p.loc['win'].reset_index()\n",
    "\n",
    "df_rat = df1.merge(df_p, on='gen_op')\n",
    "df_rat['win_ratio'] = 100*df_rat['Game']/df_rat['game_count']\n",
    "df_rat.columns = ['Opening', 'Num_Games', 'Per_Freq', 'Wins', 'Win_Ratio']\n",
    "df_rat = df_rat[df_rat['Num_Games']>=50]\n",
    "df_rat = df_rat.sort_values('Win_Ratio', ascending=False)\n",
    "sns.barplot(df_rat['Win_Ratio'],df_rat['Opening'], ax=ax[1])\n",
    "ax[1].set_title('Carlsen as Black');"
   ]
  },
  {
   "cell_type": "markdown",
   "metadata": {},
   "source": [
    "What is interesting about Carlsen's play style is the fact that he uses different openings when he plays as White and when he plays as Black. The plot also indicates that he wins mostly when he is playing as White.\n",
    "\n",
    "Next, we look at the top winning openings of So in the cell below."
   ]
  },
  {
   "cell_type": "code",
   "execution_count": 12,
   "metadata": {},
   "outputs": [
    {
     "data": {
      "text/html": [
       "<div>\n",
       "<style scoped>\n",
       "    .dataframe tbody tr th:only-of-type {\n",
       "        vertical-align: middle;\n",
       "    }\n",
       "\n",
       "    .dataframe tbody tr th {\n",
       "        vertical-align: top;\n",
       "    }\n",
       "\n",
       "    .dataframe thead th {\n",
       "        text-align: right;\n",
       "    }\n",
       "</style>\n",
       "<table border=\"1\" class=\"dataframe\">\n",
       "  <thead>\n",
       "    <tr style=\"text-align: right;\">\n",
       "      <th></th>\n",
       "      <th>Opening</th>\n",
       "      <th>Num_Games</th>\n",
       "      <th>Per_Freq</th>\n",
       "      <th>Wins</th>\n",
       "      <th>Win_Ratio</th>\n",
       "    </tr>\n",
       "  </thead>\n",
       "  <tbody>\n",
       "    <tr>\n",
       "      <th>10</th>\n",
       "      <td>French</td>\n",
       "      <td>61</td>\n",
       "      <td>2.315869</td>\n",
       "      <td>30</td>\n",
       "      <td>49.180328</td>\n",
       "    </tr>\n",
       "    <tr>\n",
       "      <th>9</th>\n",
       "      <td>Reti Opening</td>\n",
       "      <td>69</td>\n",
       "      <td>2.619590</td>\n",
       "      <td>20</td>\n",
       "      <td>28.985507</td>\n",
       "    </tr>\n",
       "    <tr>\n",
       "      <th>2</th>\n",
       "      <td>English</td>\n",
       "      <td>192</td>\n",
       "      <td>7.289294</td>\n",
       "      <td>53</td>\n",
       "      <td>27.604167</td>\n",
       "    </tr>\n",
       "    <tr>\n",
       "      <th>11</th>\n",
       "      <td>Grunfeld</td>\n",
       "      <td>60</td>\n",
       "      <td>2.277904</td>\n",
       "      <td>15</td>\n",
       "      <td>25.000000</td>\n",
       "    </tr>\n",
       "    <tr>\n",
       "      <th>13</th>\n",
       "      <td>Queen's Gambit Declined Semi-Slav</td>\n",
       "      <td>51</td>\n",
       "      <td>1.936219</td>\n",
       "      <td>12</td>\n",
       "      <td>23.529412</td>\n",
       "    </tr>\n",
       "    <tr>\n",
       "      <th>12</th>\n",
       "      <td>King's Indian Attack</td>\n",
       "      <td>52</td>\n",
       "      <td>1.974184</td>\n",
       "      <td>12</td>\n",
       "      <td>23.076923</td>\n",
       "    </tr>\n",
       "    <tr>\n",
       "      <th>8</th>\n",
       "      <td>King's Indian</td>\n",
       "      <td>93</td>\n",
       "      <td>3.530752</td>\n",
       "      <td>21</td>\n",
       "      <td>22.580645</td>\n",
       "    </tr>\n",
       "    <tr>\n",
       "      <th>14</th>\n",
       "      <td>Giuoco Piano</td>\n",
       "      <td>50</td>\n",
       "      <td>1.898254</td>\n",
       "      <td>11</td>\n",
       "      <td>22.000000</td>\n",
       "    </tr>\n",
       "    <tr>\n",
       "      <th>4</th>\n",
       "      <td>Queen's Pawn Game</td>\n",
       "      <td>152</td>\n",
       "      <td>5.770691</td>\n",
       "      <td>29</td>\n",
       "      <td>19.078947</td>\n",
       "    </tr>\n",
       "    <tr>\n",
       "      <th>6</th>\n",
       "      <td>Queen's Gambit Declined Slav</td>\n",
       "      <td>120</td>\n",
       "      <td>4.555809</td>\n",
       "      <td>21</td>\n",
       "      <td>17.500000</td>\n",
       "    </tr>\n",
       "    <tr>\n",
       "      <th>0</th>\n",
       "      <td>Sicilian</td>\n",
       "      <td>456</td>\n",
       "      <td>17.312073</td>\n",
       "      <td>74</td>\n",
       "      <td>16.228070</td>\n",
       "    </tr>\n",
       "    <tr>\n",
       "      <th>3</th>\n",
       "      <td>Queen's Gambit Declined</td>\n",
       "      <td>182</td>\n",
       "      <td>6.909643</td>\n",
       "      <td>29</td>\n",
       "      <td>15.934066</td>\n",
       "    </tr>\n",
       "    <tr>\n",
       "      <th>5</th>\n",
       "      <td>Nimzo-Indian</td>\n",
       "      <td>123</td>\n",
       "      <td>4.669704</td>\n",
       "      <td>17</td>\n",
       "      <td>13.821138</td>\n",
       "    </tr>\n",
       "    <tr>\n",
       "      <th>1</th>\n",
       "      <td>Ruy Lopez</td>\n",
       "      <td>353</td>\n",
       "      <td>13.401670</td>\n",
       "      <td>47</td>\n",
       "      <td>13.314448</td>\n",
       "    </tr>\n",
       "    <tr>\n",
       "      <th>7</th>\n",
       "      <td>Queen's Indian</td>\n",
       "      <td>120</td>\n",
       "      <td>4.555809</td>\n",
       "      <td>11</td>\n",
       "      <td>9.166667</td>\n",
       "    </tr>\n",
       "  </tbody>\n",
       "</table>\n",
       "</div>"
      ],
      "text/plain": [
       "                              Opening  Num_Games   Per_Freq  Wins  Win_Ratio\n",
       "10                             French         61   2.315869    30  49.180328\n",
       "9                        Reti Opening         69   2.619590    20  28.985507\n",
       "2                             English        192   7.289294    53  27.604167\n",
       "11                           Grunfeld         60   2.277904    15  25.000000\n",
       "13  Queen's Gambit Declined Semi-Slav         51   1.936219    12  23.529412\n",
       "12               King's Indian Attack         52   1.974184    12  23.076923\n",
       "8                       King's Indian         93   3.530752    21  22.580645\n",
       "14                       Giuoco Piano         50   1.898254    11  22.000000\n",
       "4                   Queen's Pawn Game        152   5.770691    29  19.078947\n",
       "6        Queen's Gambit Declined Slav        120   4.555809    21  17.500000\n",
       "0                            Sicilian        456  17.312073    74  16.228070\n",
       "3             Queen's Gambit Declined        182   6.909643    29  15.934066\n",
       "5                        Nimzo-Indian        123   4.669704    17  13.821138\n",
       "1                           Ruy Lopez        353  13.401670    47  13.314448\n",
       "7                      Queen's Indian        120   4.555809    11   9.166667"
      ]
     },
     "execution_count": 12,
     "metadata": {},
     "output_type": "execute_result"
    }
   ],
   "source": [
    "# Filter wins, groupby Openings then count number of games\n",
    "# Concatenate with games count table then compute for the win-lose ratio\n",
    "player = cursorObj.execute(\n",
    "    '''SELECT * FROM so''')\n",
    "\n",
    "colnames = [tup[0] for tup in player.description]\n",
    "df_so = pd.DataFrame(player, columns=colnames)\n",
    "df_so['Result'] = df_so['Result'].apply(lambda x: x.split('-')[1])\n",
    "# display(df_so)\n",
    "df_p = df_so.groupby(['Result','gen_op'])['Game'].count()\n",
    "df_p = df_p.loc['win'].reset_index()\n",
    "\n",
    "df_rat = df1.merge(df_p, on='gen_op')\n",
    "df_rat['win_ratio'] = 100*df_rat['Game']/df_rat['game_count']\n",
    "df_rat.columns = ['Opening', 'Num_Games', 'Per_Freq', 'Wins', 'Win_Ratio']\n",
    "df_rat = df_rat[df_rat['Num_Games']>=50]\n",
    "df_rat = df_rat.sort_values('Win_Ratio', ascending=False)\n",
    "df_rat"
   ]
  },
  {
   "cell_type": "markdown",
   "metadata": {},
   "source": [
    "Similarly, we subdivide the data and see if So uses different strategies when playing as White and when playing as Black."
   ]
  },
  {
   "cell_type": "code",
   "execution_count": 13,
   "metadata": {},
   "outputs": [
    {
     "data": {
      "image/png": "[encoded data removed]",
      "text/plain": [
       "<Figure size 720x720 with 2 Axes>"
      ]
     },
     "metadata": {
      "needs_background": "light"
     },
     "output_type": "display_data"
    }
   ],
   "source": [
    "fig, ax = plt.subplots(2,1, sharex=True)\n",
    "fig.set_size_inches(10,10)\n",
    "\n",
    "df_whitec = df_so[df_so['White'].apply(lambda x: x.strip())=='W So']\n",
    "\n",
    "df_p = df_whitec.groupby(['Result','gen_op'])['Game'].count()\n",
    "df_p = df_p.loc['win'].reset_index()\n",
    "\n",
    "df_rat = df1.merge(df_p, on='gen_op')\n",
    "df_rat['win_ratio'] = 100*df_rat['Game']/df_rat['game_count']\n",
    "df_rat.columns = ['Opening', 'Num_Games', 'Per_Freq', 'Wins', 'Win_Ratio']\n",
    "df_rat = df_rat[df_rat['Num_Games']>=50]\n",
    "df_rat = df_rat.sort_values('Win_Ratio', ascending=False)\n",
    "sns.barplot(df_rat['Win_Ratio'],df_rat['Opening'], ax=ax[0])\n",
    "ax[0].set_title('W. So as White');\n",
    "\n",
    "df_blackc = df_so[df_so['Black'].apply(lambda x: x.strip())=='W So']\n",
    "df_p = df_blackc.groupby(['Result','gen_op'])['Game'].count()\n",
    "df_p = df_p.loc['win'].reset_index()\n",
    "\n",
    "df_rat = df1.merge(df_p, on='gen_op')\n",
    "df_rat['win_ratio'] = 100*df_rat['Game']/df_rat['game_count']\n",
    "df_rat.columns = ['Opening', 'Num_Games', 'Per_Freq', 'Wins', 'Win_Ratio']\n",
    "df_rat = df_rat[df_rat['Num_Games']>=50]\n",
    "df_rat = df_rat.sort_values('Win_Ratio', ascending=False)\n",
    "sns.barplot(df_rat['Win_Ratio'],df_rat['Opening'], ax=ax[1])\n",
    "ax[1].set_title('W. So as Black');"
   ]
  },
  {
   "cell_type": "markdown",
   "metadata": {},
   "source": [
    "It appears that So plays strongly using the French opening, especially when he is playing Black. Unlike Carlsen, So is using more or less the same openings as White or Black.\n",
    "\n",
    "We now look at the number of moves that both players made when they win, lose, or draw a match. The cells below are used to create a boxplot of their own matches side-by-side."
   ]
  },
  {
   "cell_type": "code",
   "execution_count": 14,
   "metadata": {},
   "outputs": [],
   "source": [
    "def color_carl(x):\n",
    "    if x == 'Carlsen':\n",
    "        return 'white'\n",
    "    else:\n",
    "        return 'black'\n",
    "\n",
    "def color_so(x):\n",
    "    if x == 'W So':\n",
    "        return 'white'\n",
    "    else:\n",
    "        return 'black'\n",
    "\n",
    "df_carl['Carl_Color'] = df_carl['White'].apply(lambda x: color_carl(\n",
    "    x.strip()))\n",
    "df_so['So_Color'] = df_so['White'].apply(lambda x: color_so(x.strip()))\n",
    "\n",
    "figb, axb = plt.subplots(1,2, sharey=True)\n",
    "figb.set_size_inches(16,10)\n",
    "plt.close()"
   ]
  },
  {
   "cell_type": "code",
   "execution_count": 15,
   "metadata": {},
   "outputs": [
    {
     "data": {
      "image/png": "[encoded data removed]",
      "text/plain": [
       "<Figure size 1152x720 with 2 Axes>"
      ]
     },
     "metadata": {},
     "output_type": "display_data"
    }
   ],
   "source": [
    "df_carl[\"Moves\"] = pd.to_numeric(df_carl[\"Moves\"])\n",
    "sns.catplot(data=df_carl, x='Result', y='Moves', hue='Carl_Color', \n",
    "            kind='box', ax=axb[0], hue_order=['black','white'])\n",
    "axb[0].set_title(\"Carlsen's Moves\");\n",
    "plt.close()\n",
    "\n",
    "df_so[\"Moves\"] = pd.to_numeric(df_so[\"Moves\"])\n",
    "sns.catplot(data=df_so, x='Result', y='Moves', hue='So_Color', kind='box', \n",
    "            ax=axb[1], hue_order=['black','white'])\n",
    "axb[1].set_title(\"W So's Moves\")\n",
    "plt.close()\n",
    "display(figb)"
   ]
  },
  {
   "cell_type": "markdown",
   "metadata": {},
   "source": [
    "So finishes his games at roughly 40 moves (on average), but we see a lot of outliers when the game results in a draw. In contrast, Carlsen tends to extend the game when he is not winning. Note that one particular outlier in Carlsen's plot where he drew the game after 175 moves."
   ]
  },
  {
   "cell_type": "markdown",
   "metadata": {},
   "source": [
    "#### So vs Carlsen Matches\n",
    "\n",
    "We are only considering the games they played against each other from 2015 onwards. The cell below displays the results of So when he is facing Carlsen in a match. So far, So has only won 7 games (out of 67) against Carlsen."
   ]
  },
  {
   "cell_type": "code",
   "execution_count": 16,
   "metadata": {},
   "outputs": [
    {
     "data": {
      "image/png": "[encoded data removed]",
      "text/plain": [
       "<Figure size 432x288 with 1 Axes>"
      ]
     },
     "metadata": {
      "needs_background": "light"
     },
     "output_type": "display_data"
    }
   ],
   "source": [
    "# Count the number of wins, draws and losses So had against Carlsen\n",
    "sow = cursorObj.execute(\"SELECT * FROM versus WHERE Result LIKE '%-win'\")\n",
    "sow_l = sow.fetchall()\n",
    "w = len(sow_l)\n",
    "sod = cursorObj.execute(\"SELECT * FROM versus WHERE Result LIKE '%-draw'\")\n",
    "sod_l = sow.fetchall()\n",
    "d = len(sod_l)\n",
    "sol = cursorObj.execute(\"SELECT * FROM versus WHERE Result LIKE '%-lose'\")\n",
    "sol_l = sow.fetchall()\n",
    "l = len(sol_l)\n",
    "\n",
    "# Plot\n",
    "fig, axwl = plt.subplots()\n",
    "sns.barplot([l,d,w], ['lose','draw','win'], ax=axwl)\n",
    "axwl.set_xlabel('No. of Games');\n",
    "axwl.set_ylabel('Result');\n",
    "axwl.set_title('Outcomes of So vs Carlsen');"
   ]
  },
  {
   "cell_type": "markdown",
   "metadata": {},
   "source": [
    "Let us look closely at the games won by So against Carlsen. Most of the matchups are in speed chess, and he only won once using the classical chess format."
   ]
  },
  {
   "cell_type": "code",
   "execution_count": 17,
   "metadata": {},
   "outputs": [
    {
     "data": {
      "text/html": [
       "<div>\n",
       "<style scoped>\n",
       "    .dataframe tbody tr th:only-of-type {\n",
       "        vertical-align: middle;\n",
       "    }\n",
       "\n",
       "    .dataframe tbody tr th {\n",
       "        vertical-align: top;\n",
       "    }\n",
       "\n",
       "    .dataframe thead th {\n",
       "        text-align: right;\n",
       "    }\n",
       "</style>\n",
       "<table border=\"1\" class=\"dataframe\">\n",
       "  <thead>\n",
       "    <tr style=\"text-align: right;\">\n",
       "      <th></th>\n",
       "      <th>index</th>\n",
       "      <th>Game</th>\n",
       "      <th>So_Result</th>\n",
       "      <th>Moves</th>\n",
       "      <th>Year</th>\n",
       "      <th>Event/Locale</th>\n",
       "      <th>Opening</th>\n",
       "      <th>From</th>\n",
       "      <th>White</th>\n",
       "      <th>Black</th>\n",
       "      <th>gen_op</th>\n",
       "      <th>So_Color</th>\n",
       "    </tr>\n",
       "  </thead>\n",
       "  <tbody>\n",
       "    <tr>\n",
       "      <th>298</th>\n",
       "      <td>23</td>\n",
       "      <td>Carlsen vs W So</td>\n",
       "      <td>win</td>\n",
       "      <td>58</td>\n",
       "      <td>2016</td>\n",
       "      <td>Grand Chess Tour Paris Rapid</td>\n",
       "      <td>C65 Ruy Lopez, Berlin Defense</td>\n",
       "      <td>SO</td>\n",
       "      <td>Carlsen</td>\n",
       "      <td>W So</td>\n",
       "      <td>Ruy Lopez</td>\n",
       "      <td>black</td>\n",
       "    </tr>\n",
       "    <tr>\n",
       "      <th>397</th>\n",
       "      <td>22</td>\n",
       "      <td>Carlsen vs W So</td>\n",
       "      <td>win</td>\n",
       "      <td>51</td>\n",
       "      <td>2017</td>\n",
       "      <td>Your Next Move (Rapid)</td>\n",
       "      <td>E53 Nimzo-Indian, 4.e3</td>\n",
       "      <td>SO</td>\n",
       "      <td>Carlsen</td>\n",
       "      <td>W So</td>\n",
       "      <td>Nimzo-Indian</td>\n",
       "      <td>black</td>\n",
       "    </tr>\n",
       "    <tr>\n",
       "      <th>403</th>\n",
       "      <td>3</td>\n",
       "      <td>Carlsen vs W So</td>\n",
       "      <td>win</td>\n",
       "      <td>40</td>\n",
       "      <td>2017</td>\n",
       "      <td>Chess.com Speed Chess Championship 2017/18</td>\n",
       "      <td>B13 Caro-Kann, Exchange</td>\n",
       "      <td>SO</td>\n",
       "      <td>Carlsen</td>\n",
       "      <td>W So</td>\n",
       "      <td>Caro-Kann</td>\n",
       "      <td>black</td>\n",
       "    </tr>\n",
       "    <tr>\n",
       "      <th>405</th>\n",
       "      <td>5</td>\n",
       "      <td>Carlsen vs W So</td>\n",
       "      <td>win</td>\n",
       "      <td>22</td>\n",
       "      <td>2017</td>\n",
       "      <td>Chess.com Speed Chess Championship 2017/18</td>\n",
       "      <td>B13 Caro-Kann, Exchange</td>\n",
       "      <td>SO</td>\n",
       "      <td>Carlsen</td>\n",
       "      <td>W So</td>\n",
       "      <td>Caro-Kann</td>\n",
       "      <td>black</td>\n",
       "    </tr>\n",
       "    <tr>\n",
       "      <th>404</th>\n",
       "      <td>4</td>\n",
       "      <td>W So vs Carlsen</td>\n",
       "      <td>win</td>\n",
       "      <td>61</td>\n",
       "      <td>2017</td>\n",
       "      <td>Chess.com Speed Chess Championship 2017/18</td>\n",
       "      <td>D05 Queen's Pawn Game</td>\n",
       "      <td>SO</td>\n",
       "      <td>W So</td>\n",
       "      <td>Carlsen</td>\n",
       "      <td>Queen's Pawn Game</td>\n",
       "      <td>white</td>\n",
       "    </tr>\n",
       "    <tr>\n",
       "      <th>406</th>\n",
       "      <td>6</td>\n",
       "      <td>W So vs Carlsen</td>\n",
       "      <td>win</td>\n",
       "      <td>32</td>\n",
       "      <td>2017</td>\n",
       "      <td>Chess.com Speed Chess Championship 2017/18</td>\n",
       "      <td>A04 Reti Opening</td>\n",
       "      <td>SO</td>\n",
       "      <td>W So</td>\n",
       "      <td>Carlsen</td>\n",
       "      <td>Reti Opening</td>\n",
       "      <td>white</td>\n",
       "    </tr>\n",
       "    <tr>\n",
       "      <th>411</th>\n",
       "      <td>11</td>\n",
       "      <td>W So vs Carlsen</td>\n",
       "      <td>win</td>\n",
       "      <td>44</td>\n",
       "      <td>2018</td>\n",
       "      <td>Altibox Norway</td>\n",
       "      <td>D10 Queen's Gambit Declined Slav</td>\n",
       "      <td>SO</td>\n",
       "      <td>W So</td>\n",
       "      <td>Carlsen</td>\n",
       "      <td>Queen's Gambit Declined Slav</td>\n",
       "      <td>white</td>\n",
       "    </tr>\n",
       "  </tbody>\n",
       "</table>\n",
       "</div>"
      ],
      "text/plain": [
       "     index             Game So_Result  Moves  Year  \\\n",
       "298     23  Carlsen vs W So       win     58  2016   \n",
       "397     22  Carlsen vs W So       win     51  2017   \n",
       "403      3  Carlsen vs W So       win     40  2017   \n",
       "405      5  Carlsen vs W So       win     22  2017   \n",
       "404      4  W So vs Carlsen       win     61  2017   \n",
       "406      6  W So vs Carlsen       win     32  2017   \n",
       "411     11  W So vs Carlsen       win     44  2018   \n",
       "\n",
       "                                   Event/Locale  \\\n",
       "298                Grand Chess Tour Paris Rapid   \n",
       "397                      Your Next Move (Rapid)   \n",
       "403  Chess.com Speed Chess Championship 2017/18   \n",
       "405  Chess.com Speed Chess Championship 2017/18   \n",
       "404  Chess.com Speed Chess Championship 2017/18   \n",
       "406  Chess.com Speed Chess Championship 2017/18   \n",
       "411                              Altibox Norway   \n",
       "\n",
       "                              Opening From     White    Black  \\\n",
       "298     C65 Ruy Lopez, Berlin Defense   SO  Carlsen      W So   \n",
       "397            E53 Nimzo-Indian, 4.e3   SO  Carlsen      W So   \n",
       "403           B13 Caro-Kann, Exchange   SO  Carlsen      W So   \n",
       "405           B13 Caro-Kann, Exchange   SO  Carlsen      W So   \n",
       "404             D05 Queen's Pawn Game   SO     W So   Carlsen   \n",
       "406                  A04 Reti Opening   SO     W So   Carlsen   \n",
       "411  D10 Queen's Gambit Declined Slav   SO     W So   Carlsen   \n",
       "\n",
       "                           gen_op So_Color  \n",
       "298                     Ruy Lopez    black  \n",
       "397                  Nimzo-Indian    black  \n",
       "403                     Caro-Kann    black  \n",
       "405                     Caro-Kann    black  \n",
       "404             Queen's Pawn Game    white  \n",
       "406                  Reti Opening    white  \n",
       "411  Queen's Gambit Declined Slav    white  "
      ]
     },
     "metadata": {},
     "output_type": "display_data"
    }
   ],
   "source": [
    "so_white = df_so[(df_so['White'].apply(lambda x: x.strip())=='W So')&(df_so['Black'].apply(lambda x: x.strip())=='Carlsen')]\n",
    "so_black = df_so[(df_so['Black'].apply(lambda x: x.strip())=='W So')&(df_so['White'].apply(lambda x: x.strip())=='Carlsen')]\n",
    "\n",
    "df_svc = so_black.append(so_white)\n",
    "df_svc.columns=['index', 'Game', 'So_Result', 'Moves', 'Year', 'Event/Locale', 'Opening',\n",
    "       'From', 'White', 'Black', 'gen_op', 'So_Color']\n",
    "df_svc = df_svc[df_svc['So_Result']=='win']\n",
    "display(df_svc)"
   ]
  },
  {
   "cell_type": "markdown",
   "metadata": {},
   "source": [
    "So won against Carlsen 4 times as Black and 3 times as White. Note also that So avoided the strong openings of Carlsen, except for the Reti opening (where Carlsen wins around 30% of the time as Black)."
   ]
  },
  {
   "cell_type": "markdown",
   "metadata": {},
   "source": []
  },
  {
   "cell_type": "markdown",
   "metadata": {},
   "source": [
    "## Conclusion\n",
    "\n",
    "Both Carlsen and So have a wide array of opening moves in their arsenal, and they normally uses different strategies when playing as White and when playing as Black. In terms of opening, however, Carlsen uses a lot more variations as compared with So.\n",
    "\n",
    "It is also interesting to note that for both players, the most used openings they are using (based on the database) is not exactly their strongest openings. They must be using chessgames.com to practice on the other openings that they are not very good at.\n",
    "\n",
    "Another interesting observation is the fact that both players tend to extend the game when the end result is a draw.\n",
    "\n",
    "This study only covered the opening moves made by Carlsen and So, which is a good material for novice chess players to study in order to improve their game. However, this is not enough to learn how they play the game. In fact, Carlsen admitted that he mostly concentrates on the middle game and not on the opening game. One must analyze the actual games of these two players in order to understand their nuances and plan a strategy to defeat them."
   ]
  },
  {
   "cell_type": "markdown",
   "metadata": {},
   "source": []
  },
  {
   "cell_type": "markdown",
   "metadata": {},
   "source": [
    "## References\n",
    "\n",
    "* публикации, Время, \"Magnus Carlsen: 'I Love the Middlegame, Because There You Get Pure Chess',\" Chess-News, http://chess-news.ru/en/node/19178 (accessed June 7, 2019).\n",
    "* CHESScom, \"The English Opening: Chess Openings Explained\", https://www.chess.com/article/view/english-opening-chess (accesses June 7, 2019).\n",
    "* Cox, David, \"Wesley So Interview: 'Chess Was A Way Out',\" Chess.com, https://www.chess.com/article/view/wesley-so-interview-chess-was-a-way-out (accessed June 7, 2019).\n",
    "* McGourty, Colin, \"Tukmakov on this 'internet romance' coaching So,\" chess24, https://chess24.com/en/read/news/tukmakov-on-his-internet-romance-coaching-so (accessed June 7, 2019).\n",
    "* Pandolfini, Bruce, \"Chess Openings: Traps and Zaps\", New York: Simon & Schuster Inc.,1989.\n",
    "* Wikipedia contributors, \"Chess,\" Wikipedia, The Free Encyclopedia, https://en.wikipedia.org/w/index.php?title=Chess&oldid=898383238 (accessed June 6, 2019).\n",
    "* Wikipedia contributors, \"Magnus Carlsen,\" Wikipedia, The Free Encyclopedia, https://en.wikipedia.org/w/index.php?title=Magnus_Carlsen&oldid=899446653 (accessed June 6, 2019).\n",
    "* Wikipedia contributors, \"Queen's Gambit Declined,\" Wikipedia, The Free Encyclopedia, https://en.wikipedia.org/w/index.php?title=Queen%27s_Gambit_Declined&oldid=851113931 (accessed June 7, 2019).\n",
    "* Wikipedia contributors, \"Sicilian Defence,\" Wikipedia, The Free Encyclopedia, https://en.wikipedia.org/w/index.php?title=Sicilian_Defence&oldid=897040921 (accessed June 7, 2019).\n",
    "* Wikipedia contributors, \"Wesley So,\" Wikipedia, The Free Encyclopedia, https://en.wikipedia.org/w/index.php?title=Wesley_So&oldid=900349974 (accessed June 6, 2019)."
   ]
  }
 ],
 "metadata": {
  "kernelspec": {
   "display_name": "Python 3",
   "language": "python",
   "name": "python3"
  },
  "language_info": {
   "codemirror_mode": {
    "name": "ipython",
    "version": 3
   },
   "file_extension": ".py",
   "mimetype": "text/x-python",
   "name": "python",
   "nbconvert_exporter": "python",
   "pygments_lexer": "ipython3",
   "version": "3.7.1"
  }
 },
 "nbformat": 4,
 "nbformat_minor": 2
}
